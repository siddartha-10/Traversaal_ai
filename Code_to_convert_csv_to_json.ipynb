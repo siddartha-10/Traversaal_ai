{
 "cells": [
  {
   "cell_type": "code",
   "execution_count": 2,
   "metadata": {},
   "outputs": [],
   "source": [
    "from langchain_experimental.agents import create_csv_agent\n",
    "from dotenv import load_dotenv\n",
    "from langchain_openai import AzureChatOpenAI\n",
    "import os\n",
    "load_dotenv()\n",
    "import pandas as pd"
   ]
  },
  {
   "cell_type": "code",
   "execution_count": 3,
   "metadata": {},
   "outputs": [],
   "source": [
    "llm = AzureChatOpenAI(openai_api_version=os.environ.get(\"AZURE_OPENAI_VERSION\", \"2023-07-01-preview\"),\n",
    "        azure_deployment=os.environ.get(\"AZURE_OPENAI_DEPLOYMENT\", \"gpt4chat\"),\n",
    "        azure_endpoint=os.environ.get(\"AZURE_OPENAI_ENDPOINT\", \"https://gpt-4-trails.openai.azure.com/\"),\n",
    "        api_key=os.environ.get(\"AZURE_OPENAI_KEY\"))"
   ]
  },
  {
   "cell_type": "markdown",
   "metadata": {},
   "source": [
    "Here I converted the code into json so it is easy to embed them into the vector database"
   ]
  },
  {
   "cell_type": "code",
   "execution_count": 6,
   "metadata": {},
   "outputs": [],
   "source": [
    "import csv\n",
    "import json\n",
    "\n",
    "csv_file = 'clean_data.csv'\n",
    "json_file = 'data.json'\n",
    "\n",
    "data = []\n",
    "with open(csv_file, 'r') as csvfile:\n",
    "    csvreader = csv.DictReader(csvfile)\n",
    "    for row in csvreader:\n",
    "        data.append(row)\n",
    "\n",
    "with open(json_file, 'w') as jsonfile:\n",
    "    json.dump(data, jsonfile, indent=4)"
   ]
  },
  {
   "cell_type": "code",
   "execution_count": null,
   "metadata": {},
   "outputs": [],
   "source": []
  },
  {
   "cell_type": "code",
   "execution_count": 4,
   "metadata": {},
   "outputs": [],
   "source": [
    "agent1 = create_csv_agent(\n",
    "            llm, \"clean_data.csv\", verbose=True)"
   ]
  },
  {
   "cell_type": "code",
   "execution_count": 5,
   "metadata": {},
   "outputs": [
    {
     "name": "stderr",
     "output_type": "stream",
     "text": [
      "/Library/Frameworks/Python.framework/Versions/3.10/lib/python3.10/site-packages/langchain_core/_api/deprecation.py:117: LangChainDeprecationWarning: The function `run` was deprecated in LangChain 0.1.0 and will be removed in 0.2.0. Use invoke instead.\n",
      "  warn_deprecated(\n"
     ]
    },
    {
     "name": "stdout",
     "output_type": "stream",
     "text": [
      "\n",
      "\n",
      "\u001b[1m> Entering new AgentExecutor chain...\u001b[0m\n",
      "\u001b[32;1m\u001b[1;3mThought: The question is asking for the best hotel with specified requirements and a budget of 100-200$. However, the provided dataframe does not contain information about the number of bedrooms, bathrooms, or the presence of a TV in the hall in the hotels. It also does not have detailed price information, only a general 'price_range' column. Therefore, the information provided in the dataframe is not sufficient to answer the question accurately.\n",
      "Final Answer: The information provided in the dataframe is not sufficient to accurately answer the question about the best hotel within a specified budget and with certain room requirements.\u001b[0m\n",
      "\n",
      "\u001b[1m> Finished chain.\u001b[0m\n"
     ]
    },
    {
     "data": {
      "text/plain": [
       "'The information provided in the dataframe is not sufficient to accurately answer the question about the best hotel within a specified budget and with certain room requirements.'"
      ]
     },
     "execution_count": 5,
     "metadata": {},
     "output_type": "execute_result"
    }
   ],
   "source": [
    "agent1.run(\"i have about 100-200$ what is the best hotel i need 2 bedrooms, 2 bathrooms and a TV in the hall\")"
   ]
  },
  {
   "cell_type": "code",
   "execution_count": 24,
   "metadata": {},
   "outputs": [
    {
     "name": "stdout",
     "output_type": "stream",
     "text": [
      "Request Headers:\n",
      "{'x-api-key': 'ares_644291f1c734c64a8c586e4b8b069b533390dd46d6fcee0c438f11528b4d8f8a', 'content-type': 'application/json'}\n",
      "{'message': 'Missing Authentication Token'}\n"
     ]
    }
   ],
   "source": [
    "# import requests\n",
    "# import time\n",
    "# # Define the API endpoint and parameters\n",
    "# url = \"https://api-ares.traversaal.ai/live/predict\"\n",
    "# api_key = \"ares_644291f1c734c64a8c586e4b8b069b533390dd46d6fcee0c438f11528b4d8f8a\"\n",
    "# headers = {\"x-api-key\": api_key, \"content-type\": \"application/json\"}\n",
    "# query = \"I want to eat best food san francisco, give me some suggestions\"\n",
    "# api_parameters = {\"query\": query}\n",
    "# # Print out the request headers before sending the request\n",
    "# print(\"Request Headers:\")\n",
    "# print(headers)\n",
    "# # Retry the API request if a connection error occurs\n",
    "# max_retries = 7\n",
    "# retry_delay = 4\n",
    "# #api_data={}\n",
    "# for retry in range(max_retries):\n",
    "#     try:\n",
    "#         # Send a request to the API\n",
    "#         api_response = requests.get(url, json=api_parameters, headers=headers)\n",
    "#         # Extract the API response data\n",
    "#         api_data = api_response.json()\n",
    "#         break\n",
    "#     except requests.exceptions.ConnectionError:\n",
    "#         print(f\"Connection error occurred. Retrying in {retry_delay} seconds...\")\n",
    "#         time.sleep(retry_delay)\n",
    "# else:\n",
    "#     print(\"Max retries exceeded. Unable to establish a connection to the API.\")\n",
    "\n",
    "# # Create the RAG prompt\n",
    "# prompt = \"I am performing RAG (Retrieve, Augment, Generate) using an API. Here is the context:\\n\\n\"\n",
    "\n",
    "# print(api_data)\n",
    "\n",
    "# # # Iterate over the API data and generate responses for each query\n",
    "# # for item in api_data[\"data\"]:\n",
    "# #     prompt += f\"{item['context']}\\n\\n\"\n",
    "# #     prompt += f\"Query: {item['query']}\\n\\n\"\n",
    "# #     prompt += \"Generate a response using the provided context:\\n\\n\"\n",
    "\n",
    "# #     # Generate a response using the RAG model\n",
    "# #     response = llm.invoke(prompt)\n",
    "# #     # Extract the generated response\n",
    "# #     generated_response = response\n",
    "\n",
    "# #     # Print the generated response\n",
    "# #     print(generated_response)"
   ]
  },
  {
   "cell_type": "code",
   "execution_count": 10,
   "metadata": {},
   "outputs": [],
   "source": [
    "import requests\n",
    "\n",
    "url = \"https://api-ares.traversaal.ai/live/predict\"\n",
    "query = \"Taco places in San Francisco\"\n",
    "payload = {\n",
    "    \"query\": query,\n",
    "}\n",
    "headers = {\n",
    "  \"x-api-key\": \"ares_a0866ad7d71d2e895c5e05dce656704a9e29ad37860912ad6a45a4e3e6c399b5\",\n",
    "  \"content-type\": \"application/json\"\n",
    "}\n",
    "\n",
    "response = requests.post(url, json=payload, headers=headers)"
   ]
  },
  {
   "cell_type": "code",
   "execution_count": 11,
   "metadata": {},
   "outputs": [
    {
     "name": "stdout",
     "output_type": "stream",
     "text": [
      "1\n"
     ]
    }
   ],
   "source": [
    "response_data = response.json()\n",
    "print(len(response_data))"
   ]
  },
  {
   "cell_type": "code",
   "execution_count": 12,
   "metadata": {},
   "outputs": [
    {
     "name": "stdout",
     "output_type": "stream",
     "text": [
      "{'error': 'Application Internal Server Error. Contact support '}\n"
     ]
    }
   ],
   "source": [
    "print(response_data)"
   ]
  },
  {
   "cell_type": "code",
   "execution_count": 132,
   "metadata": {},
   "outputs": [
    {
     "ename": "KeyError",
     "evalue": "'data'",
     "output_type": "error",
     "traceback": [
      "\u001b[0;31m---------------------------------------------------------------------------\u001b[0m",
      "\u001b[0;31mKeyError\u001b[0m                                  Traceback (most recent call last)",
      "Cell \u001b[0;32mIn[132], line 1\u001b[0m\n\u001b[0;32m----> 1\u001b[0m response_text \u001b[38;5;241m=\u001b[39m \u001b[43mresponse_data\u001b[49m\u001b[43m[\u001b[49m\u001b[38;5;124;43m'\u001b[39;49m\u001b[38;5;124;43mdata\u001b[39;49m\u001b[38;5;124;43m'\u001b[39;49m\u001b[43m]\u001b[49m[\u001b[38;5;124m'\u001b[39m\u001b[38;5;124mresponse_text\u001b[39m\u001b[38;5;124m'\u001b[39m]\n\u001b[1;32m      2\u001b[0m web_urls \u001b[38;5;241m=\u001b[39m response_data[\u001b[38;5;124m'\u001b[39m\u001b[38;5;124mdata\u001b[39m\u001b[38;5;124m'\u001b[39m][\u001b[38;5;124m'\u001b[39m\u001b[38;5;124mweb_url\u001b[39m\u001b[38;5;124m'\u001b[39m]\n",
      "\u001b[0;31mKeyError\u001b[0m: 'data'"
     ]
    }
   ],
   "source": [
    "response_text = response_data['data']['response_text']\n",
    "web_urls = response_data['data']['web_url']"
   ]
  },
  {
   "cell_type": "code",
   "execution_count": 1,
   "metadata": {},
   "outputs": [
    {
     "ename": "NameError",
     "evalue": "name 'response_text' is not defined",
     "output_type": "error",
     "traceback": [
      "\u001b[0;31m---------------------------------------------------------------------------\u001b[0m",
      "\u001b[0;31mNameError\u001b[0m                                 Traceback (most recent call last)",
      "Cell \u001b[0;32mIn[1], line 1\u001b[0m\n\u001b[0;32m----> 1\u001b[0m \u001b[38;5;28mprint\u001b[39m(\u001b[43mresponse_text\u001b[49m)\n",
      "\u001b[0;31mNameError\u001b[0m: name 'response_text' is not defined"
     ]
    }
   ],
   "source": [
    "print(response_text)"
   ]
  },
  {
   "cell_type": "code",
   "execution_count": null,
   "metadata": {},
   "outputs": [
    {
     "name": "stdout",
     "output_type": "stream",
     "text": [
      "['https://www.foodandwine.com/travel/europe/italy/pizzas-in-italy', 'https://www.cntraveler.com/galleries/2014-12-01/10-best-pizzerias-in-italy-rome-naples-venice', 'https://www.blueroadstouring.com/blog/uncover-best-pizza-italy', 'https://www.reddit.com/r/askitaly/comments/wvxl8t/best_pizza_in_italyromemilanvenice/', 'https://community.ricksteves.com/travel-forum/italy/best-pizza-in-italy-map-it', 'https://www.timeout.com/news/its-official-these-are-the-best-pizzerias-in-italy-right-now-071323', 'https://www.foodandwine.com/best-pizzeria-world-7106600', 'https://www.enjoytravel.com/en/travel-news/food-and-drink/pizza-in-italy', 'https://theromanguy.com/italy-travel-blog/italy-travel-blog/italy/the-ultimate-guide-to-pizza-in-italy-eat-pizza-like-a-local/', 'https://www.thedailymeal.com/travel/15-best-pizza-places-italy-slideshow/']\n"
     ]
    }
   ],
   "source": [
    "print(web_urls)"
   ]
  },
  {
   "cell_type": "code",
   "execution_count": 138,
   "metadata": {},
   "outputs": [
    {
     "name": "stdout",
     "output_type": "stream",
     "text": [
      "content=\"There are several notable pizza spots in Italy. The best pizzeria, according to the 50 Top Pizza guide, is Pizzeria I Masanielli located in Caserta, which is known for its high-quality ingredients and gourmet approach to pizza-making. Other significant pizza places include Di Matteo and Pizzeria da Albert in Naples, Ai Marmi in Rome, Mamma Rosa in Marche, Pizzeria da Michele in Naples, Gino Sorbillo in Naples and Milan, Pizzeria Santarpia in Florence, Pizzeria Port'Alba in Naples, Da Remo in Rome, Antico Forno in Venice, Nicola's in Naples, Spontini in Milan, and Pepe in Grani in Caserta. Each of these pizzerias has its own specialty and unique style of pizza-making that contributes to the diverse pizza culture in Italy.\"\n"
     ]
    }
   ],
   "source": [
    "prompt = \"\"\n",
    "prompt += f\"{response_text}\\n\\n\"\n",
    "prompt += f\"Query: Pizza spots in Italy\\n\\n\"\n",
    "prompt += \"Generate a response using the provided context:\\n\\n\"\n",
    "\n",
    "# Generate a response using the RAG model\n",
    "response = llm.invoke(prompt)\n",
    "# Extract the generated response\n",
    "generated_response = response\n",
    "\n",
    "# Print the generated response\n",
    "print(generated_response)"
   ]
  },
  {
   "cell_type": "code",
   "execution_count": null,
   "metadata": {},
   "outputs": [],
   "source": []
  },
  {
   "cell_type": "code",
   "execution_count": null,
   "metadata": {},
   "outputs": [],
   "source": []
  }
 ],
 "metadata": {
  "kernelspec": {
   "display_name": "Python 3",
   "language": "python",
   "name": "python3"
  },
  "language_info": {
   "codemirror_mode": {
    "name": "ipython",
    "version": 3
   },
   "file_extension": ".py",
   "mimetype": "text/x-python",
   "name": "python",
   "nbconvert_exporter": "python",
   "pygments_lexer": "ipython3",
   "version": "3.10.11"
  }
 },
 "nbformat": 4,
 "nbformat_minor": 2
}
