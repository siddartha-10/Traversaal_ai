{
 "cells": [
  {
   "cell_type": "code",
   "execution_count": 57,
   "metadata": {},
   "outputs": [],
   "source": [
    "from langchain_experimental.agents import create_csv_agent\n",
    "from dotenv import load_dotenv\n",
    "from langchain_openai import AzureChatOpenAI\n",
    "import os\n",
    "load_dotenv()\n",
    "import requests\n",
    "import pandas as pd"
   ]
  },
  {
   "cell_type": "code",
   "execution_count": 34,
   "metadata": {},
   "outputs": [],
   "source": [
    "llm = AzureChatOpenAI(openai_api_version=os.environ.get(\"AZURE_OPENAI_VERSION\", \"2023-07-01-preview\"),\n",
    "        azure_deployment=os.environ.get(\"AZURE_OPENAI_DEPLOYMENT\", \"gpt4chat\"),\n",
    "        azure_endpoint=os.environ.get(\"AZURE_OPENAI_ENDPOINT\", \"https://gpt-4-trails.openai.azure.com/\"),\n",
    "        api_key=os.environ.get(\"AZURE_OPENAI_KEY\"))"
   ]
  },
  {
   "cell_type": "markdown",
   "metadata": {},
   "source": [
    "Here I converted the code into json so it is easy to embed them into the vector database"
   ]
  },
  {
   "cell_type": "code",
   "execution_count": 6,
   "metadata": {},
   "outputs": [],
   "source": [
    "import csv\n",
    "import json\n",
    "\n",
    "csv_file = 'clean_data.csv'\n",
    "json_file = 'data.json'\n",
    "\n",
    "data = []\n",
    "with open(csv_file, 'r') as csvfile:\n",
    "    csvreader = csv.DictReader(csvfile)\n",
    "    for row in csvreader:\n",
    "        data.append(row)\n",
    "\n",
    "with open(json_file, 'w') as jsonfile:\n",
    "    json.dump(data, jsonfile, indent=4)"
   ]
  },
  {
   "cell_type": "code",
   "execution_count": null,
   "metadata": {},
   "outputs": [],
   "source": []
  },
  {
   "cell_type": "code",
   "execution_count": 4,
   "metadata": {},
   "outputs": [],
   "source": [
    "agent1 = create_csv_agent(\n",
    "            llm, \"clean_data.csv\", verbose=True)"
   ]
  },
  {
   "cell_type": "code",
   "execution_count": 5,
   "metadata": {},
   "outputs": [
    {
     "name": "stderr",
     "output_type": "stream",
     "text": [
      "/Library/Frameworks/Python.framework/Versions/3.10/lib/python3.10/site-packages/langchain_core/_api/deprecation.py:117: LangChainDeprecationWarning: The function `run` was deprecated in LangChain 0.1.0 and will be removed in 0.2.0. Use invoke instead.\n",
      "  warn_deprecated(\n"
     ]
    },
    {
     "name": "stdout",
     "output_type": "stream",
     "text": [
      "\n",
      "\n",
      "\u001b[1m> Entering new AgentExecutor chain...\u001b[0m\n",
      "\u001b[32;1m\u001b[1;3mThought: The question is asking for the best hotel with specified requirements and a budget of 100-200$. However, the provided dataframe does not contain information about the number of bedrooms, bathrooms, or the presence of a TV in the hall in the hotels. It also does not have detailed price information, only a general 'price_range' column. Therefore, the information provided in the dataframe is not sufficient to answer the question accurately.\n",
      "Final Answer: The information provided in the dataframe is not sufficient to accurately answer the question about the best hotel within a specified budget and with certain room requirements.\u001b[0m\n",
      "\n",
      "\u001b[1m> Finished chain.\u001b[0m\n"
     ]
    },
    {
     "data": {
      "text/plain": [
       "'The information provided in the dataframe is not sufficient to accurately answer the question about the best hotel within a specified budget and with certain room requirements.'"
      ]
     },
     "execution_count": 5,
     "metadata": {},
     "output_type": "execute_result"
    }
   ],
   "source": [
    "agent1.run(\"i have about 100-200$ what is the best hotel i need 2 bedrooms, 2 bathrooms and a TV in the hall\")"
   ]
  },
  {
   "cell_type": "code",
   "execution_count": 24,
   "metadata": {},
   "outputs": [
    {
     "name": "stdout",
     "output_type": "stream",
     "text": [
      "Request Headers:\n",
      "{'x-api-key': 'ares_644291f1c734c64a8c586e4b8b069b533390dd46d6fcee0c438f11528b4d8f8a', 'content-type': 'application/json'}\n",
      "{'message': 'Missing Authentication Token'}\n"
     ]
    }
   ],
   "source": [
    "# import requests\n",
    "# import time\n",
    "# # Define the API endpoint and parameters\n",
    "# url = \"https://api-ares.traversaal.ai/live/predict\"\n",
    "# api_key = \"ares_644291f1c734c64a8c586e4b8b069b533390dd46d6fcee0c438f11528b4d8f8a\"\n",
    "# headers = {\"x-api-key\": api_key, \"content-type\": \"application/json\"}\n",
    "# query = \"I want to eat best food san francisco, give me some suggestions\"\n",
    "# api_parameters = {\"query\": query}\n",
    "# # Print out the request headers before sending the request\n",
    "# print(\"Request Headers:\")\n",
    "# print(headers)\n",
    "# # Retry the API request if a connection error occurs\n",
    "# max_retries = 7\n",
    "# retry_delay = 4\n",
    "# #api_data={}\n",
    "# for retry in range(max_retries):\n",
    "#     try:\n",
    "#         # Send a request to the API\n",
    "#         api_response = requests.get(url, json=api_parameters, headers=headers)\n",
    "#         # Extract the API response data\n",
    "#         api_data = api_response.json()\n",
    "#         break\n",
    "#     except requests.exceptions.ConnectionError:\n",
    "#         print(f\"Connection error occurred. Retrying in {retry_delay} seconds...\")\n",
    "#         time.sleep(retry_delay)\n",
    "# else:\n",
    "#     print(\"Max retries exceeded. Unable to establish a connection to the API.\")\n",
    "\n",
    "# # Create the RAG prompt\n",
    "# prompt = \"I am performing RAG (Retrieve, Augment, Generate) using an API. Here is the context:\\n\\n\"\n",
    "\n",
    "# print(api_data)\n",
    "\n",
    "# # # Iterate over the API data and generate responses for each query\n",
    "# # for item in api_data[\"data\"]:\n",
    "# #     prompt += f\"{item['context']}\\n\\n\"\n",
    "# #     prompt += f\"Query: {item['query']}\\n\\n\"\n",
    "# #     prompt += \"Generate a response using the provided context:\\n\\n\"\n",
    "\n",
    "# #     # Generate a response using the RAG model\n",
    "# #     response = llm.invoke(prompt)\n",
    "# #     # Extract the generated response\n",
    "# #     generated_response = response\n",
    "\n",
    "# #     # Print the generated response\n",
    "# #     print(generated_response)"
   ]
  },
  {
   "cell_type": "code",
   "execution_count": 74,
   "metadata": {},
   "outputs": [],
   "source": [
    "def api_call(text):\n",
    "  url = \"https://api-ares.traversaal.ai/live/predict\"\n",
    "\n",
    "  payload = { \"query\": [text]}\n",
    "  headers = {\n",
    "    \"x-api-key\": \"ares_a0866ad7d71d2e895c5e05dce656704a9e29ad37860912ad6a45a4e3e6c399b5\",\n",
    "    \"content-type\": \"application/json\"\n",
    "  }\n",
    "\n",
    "  response = requests.post(url, json=payload, headers=headers)\n",
    "\n",
    "  # here we will use the llm to summarize the response received from the ares api\n",
    "  response_data = response.json()\n",
    "  #print(response_data)\n",
    "  try:\n",
    "    response_text = response_data['data']['response_text']\n",
    "    # Continue processing the data...\n",
    "  except KeyError:\n",
    "    print(\"Error: Unexpected response from the API. Please try again or contact the api owner.\")\n",
    "    # Optionally, you can log the error or perform other error handling actions.\n",
    "  web_urls = response_data['data']['web_url']\n",
    "\n",
    "  if len(response_text) > 10000:\n",
    "    response_text = response_text[:8000]\n",
    "    prompt = f\"Summarize the following text in 500-100 0 words and jsut summarize what you see and do not add anythhing else: {response_text}\"\n",
    "    summary = llm.invoke(prompt)\n",
    "    print(summary)\n",
    "  else:\n",
    "    summary = response_text\n",
    "\n",
    "  result = \"{} My list is: {}\".format(response_text, web_urls)\n",
    "\n",
    "# Convert the result to a string\n",
    "  result_str = str(result)\n",
    "\n",
    "  return result_str"
   ]
  },
  {
   "cell_type": "code",
   "execution_count": 75,
   "metadata": {},
   "outputs": [
    {
     "name": "stdout",
     "output_type": "stream",
     "text": [
      "- City Center Inn & Suites is located at 240 7th Street in SoMa, San Francisco.\n",
      "- It is 0.9 miles from the center of San Francisco and the closest landmark is the Asian Art Museum.\n",
      "- Check-in time at City Center Inn & Suites is 3:00 PM and check-out time is 11:00 AM.\n",
      "- The hotel offers free Wi-Fi and free parking.\n",
      "- City Center Inn & Suites is approximately 11.2 miles from San Francisco and 11.5 miles from Oakland.\n",
      "- KAYAK searches for all room deals available at City Center Inn & Suites in San Francisco and compares them to find the best rate for your stay.\n",
      "- The latest starting price for this hotel is $75 per night.\n",
      "- If you're looking for other hotels, flights, or car rentals, you can search for thousands of options with KAYAK. My list is: ['https://sanfransiscosuites.com/2-bedroom-suites-in-san-francisco/', 'https://www.booking.com/hotel/us/san-francisco-inn.html', 'https://www.kayak.com/San-Francisco-Hotels-City-Center-Inn-Suites.20346.ksp', 'https://au.hotels.com/ho109830/city-center-inn-suites-san-francisco-united-states-of-america/', 'https://www.booking.com/hotel/us/super-8-union-square.html', 'https://www.kayak.com/San-Francisco-Hotels-Inn-San-Francisco.99899.ksp', 'https://www.hotels.com/ho115783/fairmont-san-francisco-san-francisco-united-states-of-america/', 'https://www.hotel.com.au/san-francisco/2-bedroom-serviced-apartments-and-suites.htm', 'https://www.hotels.com/ho119457/the-marker-san-francisco-san-francisco-united-states-of-america/', 'https://sleeps5.com/destinations/north-america/united-states/san-francisco/']\n"
     ]
    }
   ],
   "source": [
    "print(api_call(\"cheap hotels in san francisco with 2 bedrooms and 2 bathrooms and a TV in the hall\"))"
   ]
  },
  {
   "cell_type": "code",
   "execution_count": 60,
   "metadata": {},
   "outputs": [],
   "source": [
    "import requests\n",
    "\n",
    "url = \"https://api-ares.traversaal.ai/live/predict\"\n",
    "\n",
    "payload = { \"query\": [\"best hotels in Paris\"] ,\n",
    "           \"limit\": 5}\n",
    "headers = {\n",
    "  \"x-api-key\": \"ares_a0866ad7d71d2e895c5e05dce656704a9e29ad37860912ad6a45a4e3e6c399b5\",\n",
    "  \"content-type\": \"application/json\"\n",
    "}\n",
    "\n",
    "response = requests.post(url, json=payload, headers=headers)"
   ]
  },
  {
   "cell_type": "code",
   "execution_count": 61,
   "metadata": {},
   "outputs": [
    {
     "name": "stdout",
     "output_type": "stream",
     "text": [
      "1\n"
     ]
    }
   ],
   "source": [
    "response_data = response.json()\n",
    "print(len(response_data))"
   ]
  },
  {
   "cell_type": "code",
   "execution_count": 62,
   "metadata": {},
   "outputs": [
    {
     "name": "stdout",
     "output_type": "stream",
     "text": [
      "{'data': {'response_text': \"Here is a list of the best hotels in Paris:\\n\\n1. Hôtel Dame Des Arts: Located in the Quartier Latin, this hotel offers stylish rooms, a rooftop bar with 360-degree views, and a restaurant serving contemporary Mexican cuisine.\\n\\n2. Madame Rêve Hotel: Situated near Les Halles, this hotel offers stylish rooms with monument views, a rooftop restaurant, and a central location close to popular attractions.\\n\\n3. The Ritz Paris: A historic hotel with a modern soul, The Ritz Paris offers luxurious rooms, a flagship restaurant with a female head chef, and the famous Bar Hemingway.\\n\\n4. Molitor: This hotel, known for its clear swimming pools, offers a beach club atmosphere in the heart of Paris. The rooms are modern and feature pool-facing portholes.\\n\\n5. Le Pavillon de la Reine: Located in the Marais neighborhood, this hotel features a beautiful courtyard, elegant interiors mixing old-world touches with contemporary furnishings, and individually styled rooms and suites.\\n\\n6. InterContinental Paris Le Grand: Situated near the Palais Garnier, this hotel offers grandeur and a prime location. The Café de la Paix is a must-visit for its foie gras and historic ambiance.\\n\\n7. Le Grand Quartier: This boutique hotel in the 10th arrondissement offers refined and playful interiors, vintage and contemporary design elements, and a central location.\\n\\n8. L'Hôtel: Located in the historic literary Paris neighborhood, this retro-chic hotel pays homage to writers and philosophers. The rooms feature Haussmanian high ceilings and a mix of vintage and contemporary furnishings.\\n\\n9. Château de Versailles Le Grand Contrôle: Set in a neoclassical former private residence, this château-hotel underwent a decorative transformation and offers rooms and suites with nature-inspired wallpapers and ornate moldings.\\n\\n10. Le Pigalle: This affordable and fun Art Deco hotel features well-designed rooms, an elegant brasserie, and a nightclub. The rooftop lounge bar offers views of the Sacré Coeur.\\n\\n11. Hotel Banke: Housed in a former bank building, this hotel features an ornate Beaux-Arts façade and stylish interiors. The Montecito restaurant channels Palm Springs insouciance.\\n\\n12. Hôtel des Grands Boulevards: Tucked away on a side street, this boutique hotel offers refined and playful interiors, cozy lounges, and a location in the heart of historic Paris.\\n\\n13. Lutetia: After a spectacular restoration, this iconic Left Bank hotel reopened with elegant interiors, multiple dining venues, and a vibrant atmosphere. It has a rich history of hosting famous patrons.\\n\\n14. The Peninsula Paris: This luxury hotel offers refined public spaces, six in-house dining venues, and a prime location near the Arc de Triomphe. It is the first Parisian outpost for the Peninsula brand.\\n\\n15. Le Meurice: Known for its elegance and art connections, Le Meurice offers luxurious suites, a serene enclosed garden, and Michelin-starred dining options.\\n\\n16. Hôtel Saint-Marc: This boutique hotel, designed by Dorothée Meilichzon, features a stylish lobby restaurant and lounge, light-filled spaces, and a central location.\\n\\n17. Hôtel de Crillon, A Rosewood Hotel: After a four-year renovation, this historic hotel reopened with a postmodern design and luxurious amenities. It offers a range of dining options and a spa with an indoor heated pool.\\n\\n18. Mandarin Oriental, Paris: This high-gloss hotel offers impeccable service, stylish modern decor, and high-class dining and spa options. It is located in the heart of Paris.\\n\\n19. Le Roch Hotel & Spa: Reflecting its surrounding area, this boutique hotel combines classic French design with contemporary materials. It offers a relaxed and unassuming vibe.\\n\\n20. Le Grand Mazarin: This eclectic and maximalist hotel features a mix of styles and designs. It offers a lively restaurant, rooftop vegetable garden, and a literary-salon vibe.\\n\\nPlease note that this list is based on the given query and the information provided.\", 'web_url': ['https://www.cntraveller.com/gallery/paris-hotels', 'https://www.cntraveler.com/gallery/best-hotels-in-paris', 'https://everydayparisian.com/where-to-stay-in-paris/', 'https://frenchly.us/best-hotels-paris/', 'https://thepointsguy.com/guide/best-hotels-in-paris/', 'https://community.ricksteves.com/travel-forum/france-reviews/hotel-with-view-of-eiffel-tower', 'https://www.reddit.com/r/ParisTravelGuide/comments/10moay1/where_to_stay_in_paris/', 'https://www.thehotelguru.com/best-hotels-in/france/paris', 'https://www.fodors.com/world/europe/france/paris/hotels', 'https://indagare.com/destination/paris/hotels']}}\n"
     ]
    }
   ],
   "source": [
    "print(response_data)"
   ]
  },
  {
   "cell_type": "code",
   "execution_count": 63,
   "metadata": {},
   "outputs": [],
   "source": [
    "response_text = response_data['data']['response_text']\n",
    "web_urls = response_data['data']['web_url']"
   ]
  },
  {
   "cell_type": "code",
   "execution_count": 56,
   "metadata": {},
   "outputs": [
    {
     "name": "stdout",
     "output_type": "stream",
     "text": [
      "Here is a list of the best hotels in Paris:\n",
      "\n",
      "1. Hôtel Dame Des Arts: Located in the Quartier Latin, this hotel offers stylish rooms, a rooftop bar with 360-degree views, and a restaurant serving contemporary Mexican cuisine.\n",
      "\n",
      "2. Madame Rêve Hotel: Situated near Les Halles, this hotel offers stylish rooms with monument views, a rooftop restaurant, and a central location close to popular attractions.\n",
      "\n",
      "3. The Ritz Paris: A historic hotel with a modern soul, The Ritz Paris offers luxurious rooms, a flagship restaurant with a female head chef, and the famous Bar Hemingway.\n",
      "\n",
      "4. Molitor: This hotel, known for its clear swimming pools, offers a beach club atmosphere in the heart of Paris. The rooms are modern and feature pool-facing portholes.\n",
      "\n",
      "5. Le Pavillon de la Reine: Located in the Marais neighborhood, this hotel features a beautiful courtyard, elegant interiors mixing old-world touches with contemporary furnishings, and individually styled rooms and suites.\n",
      "\n",
      "6. InterContinental Paris Le Grand: Situated near the Palais Garnier, this hotel offers grandeur and a prime location. The Café de la Paix is a must-visit for its foie gras and historic ambiance.\n",
      "\n",
      "7. Le Grand Quartier: This boutique hotel in the 10th arrondissement offers refined and playful interiors, vintage and contemporary design elements, and a central location.\n",
      "\n",
      "8. L'Hôtel: Located in the historic literary Paris neighborhood, this retro-chic hotel pays homage to writers and philosophers. The rooms feature Haussmanian high ceilings and a mix of vintage and contemporary furnishings.\n",
      "\n",
      "9. Château de Versailles Le Grand Contrôle: Set in a neoclassical former private residence, this château-hotel underwent a decorative transformation and offers rooms and suites with nature-inspired wallpapers and ornate moldings.\n",
      "\n",
      "10. Le Pigalle: This affordable and fun Art Deco hotel features well-designed rooms, an elegant brasserie, and a nightclub. The rooftop lounge bar offers views of the Sacré Coeur.\n",
      "\n",
      "11. Hotel Banke: Housed in a former bank building, this hotel features an ornate Beaux-Arts façade and stylish interiors. The Montecito restaurant channels Palm Springs insouciance.\n",
      "\n",
      "12. Hôtel des Grands Boulevards: Tucked away on a side street, this boutique hotel offers refined and playful interiors, cozy lounges, and a location in the heart of historic Paris.\n",
      "\n",
      "13. Lutetia: After a spectacular restoration, this iconic Left Bank hotel reopened with elegant interiors, multiple dining venues, and a vibrant atmosphere. It has a rich history of hosting famous patrons.\n",
      "\n",
      "14. The Peninsula Paris: This luxury hotel offers refined public spaces, six in-house dining venues, and a prime location near the Arc de Triomphe. It is the first Parisian outpost for the Peninsula brand.\n",
      "\n",
      "15. Le Meurice: Known for its elegance and art connections, Le Meurice offers luxurious suites, a serene enclosed garden, and Michelin-starred dining options.\n",
      "\n",
      "16. Hôtel Saint-Marc: This boutique hotel, designed by Dorothée Meilichzon, features a stylish lobby restaurant and lounge, light-filled spaces, and a central location.\n",
      "\n",
      "17. Hôtel de Crillon, A Rosewood Hotel: After a four-year renovation, this historic hotel reopened with a postmodern design and luxurious amenities. It offers a range of dining options and a spa with an indoor heated pool.\n",
      "\n",
      "18. Mandarin Oriental, Paris: This high-gloss hotel offers impeccable service, stylish modern decor, and high-class dining and spa options. It is located in the heart of Paris.\n",
      "\n",
      "19. Le Roch Hotel & Spa: Reflecting its surrounding area, this boutique hotel combines classic French design with contemporary materials. It offers a relaxed and unassuming vibe.\n",
      "\n",
      "20. Le Grand Mazarin: This eclectic and maximalist hotel features a mix of styles and designs. It offers a lively restaurant, rooftop vegetable garden, and a literary-salon vibe.\n",
      "\n",
      "Please note that this list is based on the given query and the information provided.\n"
     ]
    }
   ],
   "source": [
    "print(response_text)"
   ]
  },
  {
   "cell_type": "code",
   "execution_count": 52,
   "metadata": {},
   "outputs": [
    {
     "name": "stdout",
     "output_type": "stream",
     "text": [
      "['https://www.cntraveller.com/gallery/paris-hotels', 'https://www.cntraveler.com/gallery/best-hotels-in-paris', 'https://everydayparisian.com/where-to-stay-in-paris/', 'https://frenchly.us/best-hotels-paris/', 'https://thepointsguy.com/guide/best-hotels-in-paris/', 'https://community.ricksteves.com/travel-forum/france-reviews/hotel-with-view-of-eiffel-tower', 'https://www.reddit.com/r/ParisTravelGuide/comments/10moay1/where_to_stay_in_paris/', 'https://www.thehotelguru.com/best-hotels-in/france/paris', 'https://www.fodors.com/world/europe/france/paris/hotels', 'https://indagare.com/destination/paris/hotels']\n"
     ]
    }
   ],
   "source": [
    "print(web_urls)"
   ]
  },
  {
   "cell_type": "code",
   "execution_count": 54,
   "metadata": {},
   "outputs": [
    {
     "name": "stdout",
     "output_type": "stream",
     "text": [
      "content=\"If you're looking for the best hotels in Paris, you have several incredible options. The Hôtel Dame Des Arts, located in the Quartier Latin features stylish rooms and a rooftop bar with panoramic views. If you prefer a historic hotel, The Ritz Paris offers luxurious rooms and a flagship restaurant. For a beach club atmosphere in the heart of Paris, consider Molitor, known for its clear swimming pools. If you're looking for a location near the Palais Garnier, the InterContinental Paris Le Grand offers grandeur and a must-visit café. \\n\\nFor a boutique experience, consider Le Grand Quartier in the 10th arrondissement or L'Hôtel, located in the historic literary Paris neighborhood. If you prefer a château-hotel, Château de Versailles Le Grand Contrôle offers rooms and suites with nature-inspired wallpapers and ornate moldings. \\n\\nFor an affordable and fun Art Deco hotel, consider Le Pigalle, featuring well-designed rooms and a rooftop lounge bar. Lutetia, after a spectacular restoration, reopened with elegant interiors and a rich history of hosting famous patrons. \\n\\nFor a luxury experience, consider The Peninsula Paris near the Arc de Triomphe or Le Meurice, known for its elegance and Michelin-starred dining options. Lastly, the Mandarin Oriental, Paris offers impeccable service, stylish modern decor, and is located in the heart of Paris. These are just a few of the best hotels Paris has to offer.\"\n"
     ]
    }
   ],
   "source": [
    "prompt = \"\"\n",
    "prompt += f\"{response_text}\\n\\n\"\n",
    "prompt += f\"Query: best hotels in paris\\n\\n\"\n",
    "prompt += \"Generate a response using the provided context:\\n\\n\"\n",
    "\n",
    "# Generate a response using the RAG model\n",
    "response = llm.invoke(prompt)\n",
    "# Extract the generated response\n",
    "generated_response = response\n",
    "\n",
    "# Print the generated response\n",
    "print(generated_response)"
   ]
  },
  {
   "cell_type": "code",
   "execution_count": null,
   "metadata": {},
   "outputs": [],
   "source": []
  },
  {
   "cell_type": "code",
   "execution_count": null,
   "metadata": {},
   "outputs": [],
   "source": []
  }
 ],
 "metadata": {
  "kernelspec": {
   "display_name": "Python 3",
   "language": "python",
   "name": "python3"
  },
  "language_info": {
   "codemirror_mode": {
    "name": "ipython",
    "version": 3
   },
   "file_extension": ".py",
   "mimetype": "text/x-python",
   "name": "python",
   "nbconvert_exporter": "python",
   "pygments_lexer": "ipython3",
   "version": "3.10.11"
  }
 },
 "nbformat": 4,
 "nbformat_minor": 2
}
