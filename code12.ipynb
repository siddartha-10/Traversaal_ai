{
 "cells": [
  {
   "cell_type": "code",
   "execution_count": 5,
   "metadata": {},
   "outputs": [],
   "source": [
    "from langchain_experimental.agents import create_csv_agent\n",
    "from dotenv import load_dotenv\n",
    "from langchain_openai import AzureChatOpenAI\n",
    "import os\n",
    "load_dotenv()\n",
    "import pandas as pd"
   ]
  },
  {
   "cell_type": "code",
   "execution_count": 4,
   "metadata": {},
   "outputs": [],
   "source": [
    "llm = AzureChatOpenAI(openai_api_version=os.environ.get(\"AZURE_OPENAI_VERSION\", \"2023-07-01-preview\"),\n",
    "        azure_deployment=os.environ.get(\"AZURE_OPENAI_DEPLOYMENT\", \"gpt4chat\"),\n",
    "        azure_endpoint=os.environ.get(\"AZURE_OPENAI_ENDPOINT\", \"https://gpt-4-trails.openai.azure.com/\"),\n",
    "        api_key=os.environ.get(\"AZURE_OPENAI_KEY\"))"
   ]
  },
  {
   "cell_type": "code",
   "execution_count": 8,
   "metadata": {},
   "outputs": [],
   "source": [
    "agent1 = create_csv_agent(\n",
    "            llm, \"mimic/hosp/admissions.csv\", verbose=True)"
   ]
  },
  {
   "cell_type": "code",
   "execution_count": 9,
   "metadata": {},
   "outputs": [
    {
     "name": "stderr",
     "output_type": "stream",
     "text": [
      "/Library/Frameworks/Python.framework/Versions/3.10/lib/python3.10/site-packages/langchain_core/_api/deprecation.py:117: LangChainDeprecationWarning: The function `run` was deprecated in LangChain 0.1.0 and will be removed in 0.2.0. Use invoke instead.\n",
      "  warn_deprecated(\n"
     ]
    },
    {
     "name": "stdout",
     "output_type": "stream",
     "text": [
      "\n",
      "\n",
      "\u001b[1m> Entering new AgentExecutor chain...\u001b[0m\n",
      "\u001b[32;1m\u001b[1;3mThought: To find the number of unique patients in the dataframe, I need to count the unique values in the `subject_id` column. The pandas function `nunique()` can be used to achieve this.\n",
      "Action: python_repl_ast\n",
      "Action Input: df['subject_id'].nunique()\u001b[0m\n",
      "Observation: \u001b[36;1m\u001b[1;3m100\u001b[0m\n",
      "Thought:\u001b[32;1m\u001b[1;3mI now know the final answer\n",
      "Final Answer: There are 100 unique patients.\u001b[0m\n",
      "\n",
      "\u001b[1m> Finished chain.\u001b[0m\n"
     ]
    },
    {
     "data": {
      "text/plain": [
       "'There are 100 unique patients.'"
      ]
     },
     "execution_count": 9,
     "metadata": {},
     "output_type": "execute_result"
    }
   ],
   "source": [
    "agent2 = create_csv_agent(\n",
    "            llm, \"mimic/hosp/\", verbose=True)"
   ]
  },
  {
   "cell_type": "code",
   "execution_count": 24,
   "metadata": {},
   "outputs": [
    {
     "name": "stdout",
     "output_type": "stream",
     "text": [
      "Request Headers:\n",
      "{'x-api-key': 'ares_644291f1c734c64a8c586e4b8b069b533390dd46d6fcee0c438f11528b4d8f8a', 'content-type': 'application/json'}\n",
      "{'message': 'Missing Authentication Token'}\n"
     ]
    }
   ],
   "source": [
    "# import requests\n",
    "# import time\n",
    "# # Define the API endpoint and parameters\n",
    "# url = \"https://api-ares.traversaal.ai/live/predict\"\n",
    "# api_key = \"ares_644291f1c734c64a8c586e4b8b069b533390dd46d6fcee0c438f11528b4d8f8a\"\n",
    "# headers = {\"x-api-key\": api_key, \"content-type\": \"application/json\"}\n",
    "# query = \"I want to eat best food san francisco, give me some suggestions\"\n",
    "# api_parameters = {\"query\": query}\n",
    "# # Print out the request headers before sending the request\n",
    "# print(\"Request Headers:\")\n",
    "# print(headers)\n",
    "# # Retry the API request if a connection error occurs\n",
    "# max_retries = 7\n",
    "# retry_delay = 4\n",
    "# #api_data={}\n",
    "# for retry in range(max_retries):\n",
    "#     try:\n",
    "#         # Send a request to the API\n",
    "#         api_response = requests.get(url, json=api_parameters, headers=headers)\n",
    "#         # Extract the API response data\n",
    "#         api_data = api_response.json()\n",
    "#         break\n",
    "#     except requests.exceptions.ConnectionError:\n",
    "#         print(f\"Connection error occurred. Retrying in {retry_delay} seconds...\")\n",
    "#         time.sleep(retry_delay)\n",
    "# else:\n",
    "#     print(\"Max retries exceeded. Unable to establish a connection to the API.\")\n",
    "\n",
    "# # Create the RAG prompt\n",
    "# prompt = \"I am performing RAG (Retrieve, Augment, Generate) using an API. Here is the context:\\n\\n\"\n",
    "\n",
    "# print(api_data)\n",
    "\n",
    "# # # Iterate over the API data and generate responses for each query\n",
    "# # for item in api_data[\"data\"]:\n",
    "# #     prompt += f\"{item['context']}\\n\\n\"\n",
    "# #     prompt += f\"Query: {item['query']}\\n\\n\"\n",
    "# #     prompt += \"Generate a response using the provided context:\\n\\n\"\n",
    "\n",
    "# #     # Generate a response using the RAG model\n",
    "# #     response = llm.invoke(prompt)\n",
    "# #     # Extract the generated response\n",
    "# #     generated_response = response\n",
    "\n",
    "# #     # Print the generated response\n",
    "# #     print(generated_response)"
   ]
  },
  {
   "cell_type": "code",
   "execution_count": 129,
   "metadata": {},
   "outputs": [],
   "source": [
    "import requests\n",
    "\n",
    "url = \"https://api-ares.traversaal.ai/live/predict\"\n",
    "query = \"pizza spots in San Francisco\"\n",
    "payload = {\n",
    "    \"query\": query,\n",
    "}\n",
    "headers = {\n",
    "  \"x-api-key\": \"ares_a0866ad7d71d2e895c5e05dce656704a9e29ad37860912ad6a45a4e3e6c399b5\",\n",
    "  \"content-type\": \"application/json\"\n",
    "}\n",
    "\n",
    "response = requests.post(url, json=payload, headers=headers)"
   ]
  },
  {
   "cell_type": "code",
   "execution_count": 130,
   "metadata": {},
   "outputs": [
    {
     "name": "stdout",
     "output_type": "stream",
     "text": [
      "1\n"
     ]
    }
   ],
   "source": [
    "response_data = response.json()\n",
    "print(len(response_data))"
   ]
  },
  {
   "cell_type": "code",
   "execution_count": 131,
   "metadata": {},
   "outputs": [
    {
     "name": "stdout",
     "output_type": "stream",
     "text": [
      "{'error': 'Application Internal Server Error. Contact support '}\n"
     ]
    }
   ],
   "source": [
    "print(response_data)"
   ]
  },
  {
   "cell_type": "code",
   "execution_count": 132,
   "metadata": {},
   "outputs": [
    {
     "ename": "KeyError",
     "evalue": "'data'",
     "output_type": "error",
     "traceback": [
      "\u001b[0;31m---------------------------------------------------------------------------\u001b[0m",
      "\u001b[0;31mKeyError\u001b[0m                                  Traceback (most recent call last)",
      "Cell \u001b[0;32mIn[132], line 1\u001b[0m\n\u001b[0;32m----> 1\u001b[0m response_text \u001b[38;5;241m=\u001b[39m \u001b[43mresponse_data\u001b[49m\u001b[43m[\u001b[49m\u001b[38;5;124;43m'\u001b[39;49m\u001b[38;5;124;43mdata\u001b[39;49m\u001b[38;5;124;43m'\u001b[39;49m\u001b[43m]\u001b[49m[\u001b[38;5;124m'\u001b[39m\u001b[38;5;124mresponse_text\u001b[39m\u001b[38;5;124m'\u001b[39m]\n\u001b[1;32m      2\u001b[0m web_urls \u001b[38;5;241m=\u001b[39m response_data[\u001b[38;5;124m'\u001b[39m\u001b[38;5;124mdata\u001b[39m\u001b[38;5;124m'\u001b[39m][\u001b[38;5;124m'\u001b[39m\u001b[38;5;124mweb_url\u001b[39m\u001b[38;5;124m'\u001b[39m]\n",
      "\u001b[0;31mKeyError\u001b[0m: 'data'"
     ]
    }
   ],
   "source": [
    "response_text = response_data['data']['response_text']\n",
    "web_urls = response_data['data']['web_url']"
   ]
  },
  {
   "cell_type": "code",
   "execution_count": 133,
   "metadata": {},
   "outputs": [
    {
     "name": "stdout",
     "output_type": "stream",
     "text": [
      "1. What is the best pizzeria in Italy according to the 50 Top Pizza guide?\n",
      "- Pizzeria I Masanielli in Caserta is ranked as the best pizzeria in Italy by the 50 Top Pizza guide.\n",
      "\n",
      "2. Where is Pizzeria I Masanielli located?\n",
      "- Pizzeria I Masanielli is located in Caserta, a small city about 40 minutes north of Naples in Italy.\n",
      "\n",
      "3. What are some of the standout pizzas at Pizzeria I Masanielli?\n",
      "- Some standout pizzas at Pizzeria I Masanielli include \"Le 5 Consistenze della Cipolla\" topped with fior di latte cheese and onions in five consistencies, and the \"Genovese Secondo Martucci\" with stewed onions, fior di latte, pork cheek, and Roman ricotta conciato cheese.\n",
      "\n",
      "4. How can you make a reservation at Pizzeria I Masanielli?\n",
      "- Reservations can be made online through the restaurant's reservation system. It is recommended to book a table two months in advance.\n",
      "\n",
      "5. What is the atmosphere like at Pizzeria I Masanielli?\n",
      "- Pizzeria I Masanielli is described as busy and crowded, with a lively atmosphere. It is located in a commercial building in the newer part of Caserta.\n",
      "\n",
      "6. What are some other notable pizzerias mentioned in the article?\n",
      "- Other notable pizzerias mentioned in the article include Di Matteo and Pizzeria da Albert in Naples, Ai Marmi in Rome, Mamma Rosa in Marche, Pizzeria da Michele in Naples, Gino Sorbillo in Naples and Milan, Pizzeria Santarpia in Florence, Pizzeria Port'Alba in Naples, Da Remo in Rome, Antico Forno in Venice, Nicola's in Naples, Spontini in Milan, Pepe in Grani in Caserta, and Pizzeria I Masanielli in Caserta.\n",
      "\n",
      "7. What is the history of Pizzeria I Masanielli?\n",
      "- Pizzeria I Masanielli has been open since 2012 and is known for its high-quality ingredients and gourmet approach to pizza-making. The owner and master pizzaiolo, Francesco Martucci, uses traditional Neapolitan methods combined with haute cuisine techniques and technology to create the perfect pizza.\n",
      "\n",
      "8. How many pizzas does Pizzeria I Masanielli make per day?\n",
      "- On average, Pizzeria I Masanielli makes around a thousand pizzas per day.\n",
      "\n",
      "9. What is the significance of Caserta in relation to pizza?\n",
      "- Caserta is known for its high-quality mozzarella di bufala, which is used in many of the pizzas at Pizzeria I Masanielli. The city is also home to the Reggia di Caserta, a royal palace built in the 18th century.\n",
      "\n",
      "10. What is the experience like at Pizzeria I Masanielli?\n",
      "- The experience at Pizzeria I Masanielli is described as memorable and worth the wait. The pizzas are praised for their quality, flavor, and innovative toppings. People from all over the world visit the pizzeria, making the owner proud to showcase the region's culinary excellence.\n"
     ]
    }
   ],
   "source": [
    "print(response_text)"
   ]
  },
  {
   "cell_type": "code",
   "execution_count": null,
   "metadata": {},
   "outputs": [
    {
     "name": "stdout",
     "output_type": "stream",
     "text": [
      "['https://www.foodandwine.com/travel/europe/italy/pizzas-in-italy', 'https://www.cntraveler.com/galleries/2014-12-01/10-best-pizzerias-in-italy-rome-naples-venice', 'https://www.blueroadstouring.com/blog/uncover-best-pizza-italy', 'https://www.reddit.com/r/askitaly/comments/wvxl8t/best_pizza_in_italyromemilanvenice/', 'https://community.ricksteves.com/travel-forum/italy/best-pizza-in-italy-map-it', 'https://www.timeout.com/news/its-official-these-are-the-best-pizzerias-in-italy-right-now-071323', 'https://www.foodandwine.com/best-pizzeria-world-7106600', 'https://www.enjoytravel.com/en/travel-news/food-and-drink/pizza-in-italy', 'https://theromanguy.com/italy-travel-blog/italy-travel-blog/italy/the-ultimate-guide-to-pizza-in-italy-eat-pizza-like-a-local/', 'https://www.thedailymeal.com/travel/15-best-pizza-places-italy-slideshow/']\n"
     ]
    }
   ],
   "source": [
    "print(web_urls)"
   ]
  },
  {
   "cell_type": "code",
   "execution_count": 138,
   "metadata": {},
   "outputs": [
    {
     "name": "stdout",
     "output_type": "stream",
     "text": [
      "content=\"There are several notable pizza spots in Italy. The best pizzeria, according to the 50 Top Pizza guide, is Pizzeria I Masanielli located in Caserta, which is known for its high-quality ingredients and gourmet approach to pizza-making. Other significant pizza places include Di Matteo and Pizzeria da Albert in Naples, Ai Marmi in Rome, Mamma Rosa in Marche, Pizzeria da Michele in Naples, Gino Sorbillo in Naples and Milan, Pizzeria Santarpia in Florence, Pizzeria Port'Alba in Naples, Da Remo in Rome, Antico Forno in Venice, Nicola's in Naples, Spontini in Milan, and Pepe in Grani in Caserta. Each of these pizzerias has its own specialty and unique style of pizza-making that contributes to the diverse pizza culture in Italy.\"\n"
     ]
    }
   ],
   "source": [
    "prompt = \"\"\n",
    "prompt += f\"{response_text}\\n\\n\"\n",
    "prompt += f\"Query: Pizza spots in Italy\\n\\n\"\n",
    "prompt += \"Generate a response using the provided context:\\n\\n\"\n",
    "\n",
    "# Generate a response using the RAG model\n",
    "response = llm.invoke(prompt)\n",
    "# Extract the generated response\n",
    "generated_response = response\n",
    "\n",
    "# Print the generated response\n",
    "print(generated_response)"
   ]
  },
  {
   "cell_type": "code",
   "execution_count": null,
   "metadata": {},
   "outputs": [],
   "source": []
  },
  {
   "cell_type": "code",
   "execution_count": null,
   "metadata": {},
   "outputs": [],
   "source": []
  }
 ],
 "metadata": {
  "kernelspec": {
   "display_name": "Python 3",
   "language": "python",
   "name": "python3"
  },
  "language_info": {
   "codemirror_mode": {
    "name": "ipython",
    "version": 3
   },
   "file_extension": ".py",
   "mimetype": "text/x-python",
   "name": "python",
   "nbconvert_exporter": "python",
   "pygments_lexer": "ipython3",
   "version": "3.10.11"
  }
 },
 "nbformat": 4,
 "nbformat_minor": 2
}
